{
 "cells": [
  {
   "cell_type": "markdown",
   "metadata": {},
   "source": [
    "# Auto-annotate plasmids"
   ]
  },
  {
   "cell_type": "markdown",
   "metadata": {},
   "source": [
    "This notebook shows how to auto-annotate a plasmid using a reference sequence dataset and [GeneBlocks](https://edinburgh-genome-foundry.github.io/Geneblocks). For this demonstration, we download a reference set from the SnapGene website (www.snapgene.com/resources). Note that these files may be used without restriction by academic, nonprofit, and governmental entities."
   ]
  },
  {
   "cell_type": "code",
   "execution_count": 3,
   "metadata": {},
   "outputs": [],
   "source": [
    "import urllib.request\n",
    "\n",
    "url = 'https://www.snapgene.com/local/fetch.php?set=basic_cloning_vectors&zip'\n",
    "file_name = 'Basic_Cloning_Vectors.zip'\n",
    "urllib.request.urlretrieve(url, file_name)\n",
    "\n",
    "import zipfile\n",
    "with zipfile.ZipFile(file_name, 'r') as zip_ref:\n",
    "    zip_ref.extractall()"
   ]
  },
  {
   "cell_type": "markdown",
   "metadata": {},
   "source": [
    "Choose a few of these files to build the reference dataset:"
   ]
  },
  {
   "cell_type": "code",
   "execution_count": 1,
   "metadata": {},
   "outputs": [],
   "source": [
    "import os\n",
    "import easy_dna\n",
    "directory = \"Basic Cloning Vectors\"\n",
    "vector_names = [\n",
    "    \"lac operator\",\n",
    "    \"lac promoter\",\n",
    "    \"lac UV5 promoter\",\n",
    "    \"lacZ\",\n",
    "    \"SP6 promoter\",\n",
    "    \"SV40 promoter\",\n",
    "    \"T3 promoter\",\n",
    "    \"T5 promoter\",\n",
    "    \"T7 promoter\",\n",
    "    \"tac promoter\",\n",
    "    \"trc promoter\",\n",
    "]\n",
    "vector_names = [vector + \".dna\" for vector in vector_names]\n",
    "vector_filepaths = [os.path.join(directory, vector) for vector in vector_names]\n",
    "vectors = easy_dna.records_from_data_files(filepaths=vector_filepaths)"
   ]
  },
  {
   "cell_type": "markdown",
   "metadata": {},
   "source": [
    "---\n",
    "Download a plasmid, then remove its annotation:"
   ]
  },
  {
   "cell_type": "code",
   "execution_count": 4,
   "metadata": {},
   "outputs": [],
   "source": [
    "file_name = 'pT7Blue.dna'"
   ]
  },
  {
   "cell_type": "code",
   "execution_count": 62,
   "metadata": {},
   "outputs": [],
   "source": [
    "# url = 'https://raw.githubusercontent.com/Edinburgh-Genome-Foundry/Geneblocks/master/examples/sequences/features_transfer/plasmid_to_annotate.gb'\n",
    "url = 'https://www.snapgene.com/local/fetch.php?set=basic_cloning_vectors&plasmid=pT7Blue'\n",
    "urllib.request.urlretrieve(url, file_name)"
   ]
  },
  {
   "cell_type": "code",
   "execution_count": 5,
   "metadata": {},
   "outputs": [],
   "source": [
    "plasmid = easy_dna.load_record(file_name)\n",
    "\n",
    "from geneblocks import CommonBlocks, load_record\n",
    "from dna_features_viewer import BiopythonTranslator\n",
    "import matplotlib.pyplot as plt"
   ]
  },
  {
   "cell_type": "code",
   "execution_count": 6,
   "metadata": {},
   "outputs": [
    {
     "data": {
      "text/plain": [
       "(<AxesSubplot:>,\n",
       " ({GF(AmpR, 870-1731 (1)): 1.0,\n",
       "   GF(ori, 1901-2490 (1)): 1.0,\n",
       "   GF(f1 ori, 283-739 (-1)): 1.0,\n",
       "   GF(AmpR promoter, 765-870 (1)): 1.0,\n",
       "   GF(lac promoter, 2813-2844 (1)): 1.0,\n",
       "   GF(T7 promoter, 23-42 (1)): 1.0,\n",
       "   GF(M13 fwd, 125-142 (-1)): 1.0,\n",
       "   GF(lac operator, 2851-2868 (0)): 1.0,\n",
       "   GF(M13 rev, 4-2876 (1)): 0,\n",
       "   GF(MCS, 44-125 (0)): 1.0,\n",
       "   GF(LacZα, 0-333 (1)): 2.0},\n",
       "  {GF(AmpR promoter, 765-870 (1)): {'feature_y': 1.0, 'annotation_y': 2.0},\n",
       "   GF(MCS, 44-125 (0)): {'feature_y': 1.0, 'annotation_y': 5.0},\n",
       "   GF(lac promoter, 2813-2844 (1)): {'feature_y': 1.0, 'annotation_y': 2.0},\n",
       "   GF(T7 promoter, 23-42 (1)): {'feature_y': 1.0, 'annotation_y': 3.0},\n",
       "   GF(M13 fwd, 125-142 (-1)): {'feature_y': 1.0, 'annotation_y': 4.0},\n",
       "   GF(lac operator, 2851-2868 (0)): {'feature_y': 1.0, 'annotation_y': 3.0}}))"
      ]
     },
     "execution_count": 6,
     "metadata": {},
     "output_type": "execute_result"
    },
    {
     "data": {
      "image/png": "[encoded data removed]",
      "text/plain": [
       "<Figure size 576x244.8 with 1 Axes>"
      ]
     },
     "metadata": {},
     "output_type": "display_data"
    }
   ],
   "source": [
    "BiopythonTranslator().translate_record(plasmid).plot()"
   ]
  },
  {
   "cell_type": "code",
   "execution_count": 7,
   "metadata": {},
   "outputs": [],
   "source": [
    "plasmid.features = []"
   ]
  },
  {
   "cell_type": "code",
   "execution_count": 8,
   "metadata": {},
   "outputs": [
    {
     "data": {
      "text/plain": [
       "(<AxesSubplot:>, ({}, {}))"
      ]
     },
     "execution_count": 8,
     "metadata": {},
     "output_type": "execute_result"
    },
    {
     "data": {
      "image/png": "[encoded data removed]",
      "text/plain": [
       "<Figure size 576x158.4 with 1 Axes>"
      ]
     },
     "metadata": {},
     "output_type": "display_data"
    }
   ],
   "source": [
    "BiopythonTranslator().translate_record(plasmid).plot()"
   ]
  },
  {
   "cell_type": "markdown",
   "metadata": {},
   "source": [
    "---\n",
    "Auto-annotate"
   ]
  },
  {
   "cell_type": "code",
   "execution_count": 21,
   "metadata": {},
   "outputs": [],
   "source": [
    "blocks = CommonBlocks.from_sequences(vectors + [plasmid], min_block_size=10)\n",
    "results = blocks.copy_features_between_common_blocks(inplace=False)\n",
    "#~ blocks.plot_common_blocks()"
   ]
  },
  {
   "cell_type": "code",
   "execution_count": 20,
   "metadata": {},
   "outputs": [
    {
     "data": {
      "text/plain": [
       "(<AxesSubplot:>,\n",
       " ({GF(lac promoter, 2813-2844 (1)): 0},\n",
       "  {GF(lac promoter, 2813-2844 (1)): {'feature_y': 0, 'annotation_y': 1.0}}))"
      ]
     },
     "execution_count": 20,
     "metadata": {},
     "output_type": "execute_result"
    },
    {
     "data": {
      "image/png": "[encoded data removed]",
      "text/plain": [
       "<Figure size 576x158.4 with 1 Axes>"
      ]
     },
     "metadata": {},
     "output_type": "display_data"
    }
   ],
   "source": [
    "BiopythonTranslator().translate_record(results[\"pT7Blue\"]).plot()"
   ]
  },
  {
   "cell_type": "code",
   "execution_count": null,
   "metadata": {},
   "outputs": [],
   "source": []
  }
 ],
 "metadata": {
  "kernelspec": {
   "display_name": "Python 3",
   "language": "python",
   "name": "python3"
  },
  "language_info": {
   "codemirror_mode": {
    "name": "ipython",
    "version": 3
   },
   "file_extension": ".py",
   "mimetype": "text/x-python",
   "name": "python",
   "nbconvert_exporter": "python",
   "pygments_lexer": "ipython3",
   "version": "3.6.10"
  }
 },
 "nbformat": 4,
 "nbformat_minor": 4
}
