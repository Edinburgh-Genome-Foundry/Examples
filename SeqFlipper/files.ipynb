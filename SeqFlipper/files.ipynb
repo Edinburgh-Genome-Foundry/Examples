{
 "cells": [
  {
   "cell_type": "markdown",
   "metadata": {},
   "source": [
    "We generate random sequence parts for the example assembly:"
   ]
  },
  {
   "cell_type": "code",
   "execution_count": 14,
   "metadata": {},
   "outputs": [],
   "source": [
    "import os"
   ]
  },
  {
   "cell_type": "code",
   "execution_count": 2,
   "metadata": {},
   "outputs": [
    {
     "data": {
      "text/plain": [
       "0"
      ]
     },
     "execution_count": 2,
     "metadata": {},
     "output_type": "execute_result"
    }
   ],
   "source": [
    "os.system('mkdir files')"
   ]
  },
  {
   "cell_type": "code",
   "execution_count": 15,
   "metadata": {},
   "outputs": [],
   "source": [
    "import dnachisel"
   ]
  },
  {
   "cell_type": "code",
   "execution_count": 16,
   "metadata": {},
   "outputs": [],
   "source": [
    "part_records = {}"
   ]
  },
  {
   "cell_type": "code",
   "execution_count": 23,
   "metadata": {},
   "outputs": [],
   "source": [
    "part_data = {\n",
    "    'p1': 79,\n",
    "    'p2': 25,\n",
    "    'pCL': 9,\n",
    "    'p12': 25,\n",
    "    'p13': 9,\n",
    "    'p14': 30,\n",
    "    'p15': 60,\n",
    "    'p16': 15,\n",
    "    'p17': 9,\n",
    "    'p18': 30,\n",
    "    'pSV': 60,\n",
    "    'p22': 15,\n",
    "    'pWZ': 21,\n",
    "}"
   ]
  },
  {
   "cell_type": "code",
   "execution_count": 25,
   "metadata": {},
   "outputs": [
    {
     "name": "stderr",
     "output_type": "stream",
     "text": [
      "                                                                                   \r"
     ]
    }
   ],
   "source": [
    "for part, length in part_data.items():\n",
    "    seq_str = dnachisel.biotools.random_dna_sequence(length)\n",
    "    \n",
    "    problem = dnachisel.DnaOptimizationProblem(\n",
    "    sequence=seq_str,\n",
    "    constraints=[dnachisel.AvoidPattern(\"BsmBI_site\"),],\n",
    "    )\n",
    "\n",
    "    problem.resolve_constraints()\n",
    "\n",
    "    seq_record = dnachisel.biotools.sequence_to_biopython_record(problem.sequence, id=part, name=part)\n",
    "    part_records[part] = seq_record\n"
   ]
  },
  {
   "cell_type": "code",
   "execution_count": 31,
   "metadata": {},
   "outputs": [],
   "source": [
    "import easy_dna"
   ]
  },
  {
   "cell_type": "code",
   "execution_count": 43,
   "metadata": {},
   "outputs": [],
   "source": [
    "for part, record in part_records.items():\n",
    "    filename = part + '.gb'\n",
    "    path = os.path.join('files', filename)\n",
    "    easy_dna.write_record(record, target=path)"
   ]
  }
 ],
 "metadata": {
  "kernelspec": {
   "display_name": "Python 3",
   "language": "python",
   "name": "python3"
  },
  "language_info": {
   "codemirror_mode": {
    "name": "ipython",
    "version": 3
   },
   "file_extension": ".py",
   "mimetype": "text/x-python",
   "name": "python",
   "nbconvert_exporter": "python",
   "pygments_lexer": "ipython3",
   "version": "3.6.7"
  }
 },
 "nbformat": 4,
 "nbformat_minor": 4
}
