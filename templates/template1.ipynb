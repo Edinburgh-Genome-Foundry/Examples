{
 "cells": [
  {
   "cell_type": "markdown",
   "metadata": {},
   "source": [
    "# DNA assembly project: ____"
   ]
  },
  {
   "cell_type": "markdown",
   "metadata": {},
   "source": [
    "This notebook template shows a standard workflow of DNA assembly design, using EGF software. Each section begins with parameters that need to be defined."
   ]
  },
  {
   "cell_type": "markdown",
   "metadata": {},
   "source": [
    "## Obtain parts"
   ]
  },
  {
   "cell_type": "code",
   "execution_count": null,
   "metadata": {},
   "outputs": [],
   "source": [
    "# List of all and new parts in assembly plan:\n",
    "f1 = open('all_parts.txt', 'r')\n",
    "f2 = open('new_parts.txt', 'r')"
   ]
  },
  {
   "cell_type": "code",
   "execution_count": null,
   "metadata": {},
   "outputs": [],
   "source": [
    "all_parts = f1.read().splitlines()\n",
    "new_parts = f2.read().splitlines()\n",
    "f1.close()\n",
    "f2.close()"
   ]
  },
  {
   "cell_type": "code",
   "execution_count": null,
   "metadata": {},
   "outputs": [],
   "source": [
    "difference = set(new_parts) - set(all_parts)\n",
    "if len(difference) != 0:\n",
    "    print(\"Some parts are not in the plan:\")\n",
    "    print(difference)\n",
    "else:\n",
    "    print(\"All new parts are accounted for in the assembly. Retrieving these remaining parts from repository:\")\n",
    "    print(set(all_parts) - set(new_parts))"
   ]
  },
  {
   "cell_type": "code",
   "execution_count": null,
   "metadata": {},
   "outputs": [],
   "source": [
    "# Alternatively retrieve from repository via API"
   ]
  },
  {
   "cell_type": "markdown",
   "metadata": {},
   "source": [
    "---\n",
    "## Evaluate manufacturability"
   ]
  },
  {
   "cell_type": "code",
   "execution_count": 8,
   "metadata": {},
   "outputs": [],
   "source": [
    "import os\n",
    "# Directory containing genbanks:\n",
    "dir_to_evaluate = \"\"\n",
    "results_target_dir = \"\"\n",
    "pdf_evaluation = os.path.join(results_target_dir, \"manufacturability_report.pdf\")\n",
    "excel_evaluation = os.path.join(results_target_dir, \"manufacturability_report.xlsx\")"
   ]
  },
  {
   "cell_type": "code",
   "execution_count": 8,
   "metadata": {},
   "outputs": [],
   "source": [
    "try:\n",
    "    os.mkdir(results_target_dir)\n",
    "except:\n",
    "    pass"
   ]
  },
  {
   "cell_type": "code",
   "execution_count": 4,
   "metadata": {},
   "outputs": [],
   "source": [
    "import dnacauldron\n",
    "import dnachisel\n",
    "import dnachisel.reports.constraints_reports as cr"
   ]
  },
  {
   "cell_type": "code",
   "execution_count": 5,
   "metadata": {},
   "outputs": [],
   "source": [
    "records_to_evaluate = dnacauldron.biotools.load_records_from_files(folder=dir_to_evaluate, use_file_names_as_ids=True)"
   ]
  },
  {
   "cell_type": "code",
   "execution_count": 6,
   "metadata": {},
   "outputs": [],
   "source": [
    "constraints = [\n",
    "    dnachisel.AvoidPattern(\"BsaI_site\"),\n",
    "    dnachisel.AvoidPattern(\"BsmBI_site\"),\n",
    "    dnachisel.AvoidPattern(\"BbsI_site\"),\n",
    "    dnachisel.AvoidPattern(\"SapI_site\"),\n",
    "    dnachisel.AvoidPattern(\"8x1mer\"),\n",
    "    dnachisel.AvoidPattern(\"5x3mer\"),\n",
    "    dnachisel.AvoidPattern(\"9x2mer\"),\n",
    "    dnachisel.AvoidHairpins(stem_size=20, hairpin_window=200),\n",
    "    dnachisel.EnforceGCContent(mini=0.3, maxi=0.7, window=100),\n",
    "    dnachisel.EnforceGCContent(mini=0.1, maxi=0.9, window=100),\n",
    "    dnachisel.UniquifyAllKmers(k=15),\n",
    "]"
   ]
  },
  {
   "cell_type": "code",
   "execution_count": null,
   "metadata": {},
   "outputs": [],
   "source": [
    "dataframe = cr.constraints_breaches_dataframe(constraints, records_to_evaluate)\n",
    "dataframe.to_excel(excel_evaluation)\n",
    "records_annotated = cr.records_from_breaches_dataframe(dataframe, records_to_evaluate)\n",
    "cr.breaches_records_to_pdf(records_annotated, pdf_evaluation)"
   ]
  },
  {
   "cell_type": "markdown",
   "metadata": {},
   "source": [
    "## Sculpt sequences"
   ]
  },
  {
   "cell_type": "code",
   "execution_count": 5,
   "metadata": {},
   "outputs": [],
   "source": [
    "import os\n",
    "import dnachisel\n",
    "import dnacauldron\n",
    "import proglog\n",
    "from Bio import SeqIO"
   ]
  },
  {
   "cell_type": "code",
   "execution_count": 3,
   "metadata": {},
   "outputs": [],
   "source": [
    "dir_to_sculpt = \"\""
   ]
  },
  {
   "cell_type": "code",
   "execution_count": 7,
   "metadata": {},
   "outputs": [],
   "source": [
    "records_to_sculpt = dnacauldron.biotools.load_records_from_files(folder=dir_to_sculpt, use_file_names_as_ids=True)"
   ]
  },
  {
   "cell_type": "code",
   "execution_count": null,
   "metadata": {},
   "outputs": [],
   "source": [
    "# for record in records_to_sculpt:\n",
    "#     if not len(record) % 3 == 0:\n",
    "#         print(record.id)"
   ]
  },
  {
   "cell_type": "code",
   "execution_count": 15,
   "metadata": {},
   "outputs": [],
   "source": [
    "all_constraints=[\n",
    "        dnachisel.AvoidPattern(\"BsaI_site\"),\n",
    "        dnachisel.AvoidPattern(\"NotI_site\"),\n",
    "        dnachisel.AvoidPattern(\"XbaI_site\"),\n",
    "        dnachisel.AvoidPattern(\"ClaI_site\"),\n",
    "        dnachisel.AvoidPattern(\"8x1mer\"),\n",
    "        dnachisel.builtin_specifications.UniquifyAllKmers(15),\n",
    "        dnachisel.EnforceGCContent(mini=0.1, maxi=0.9, window=50),\n",
    "#         dnachisel.EnforceTranslation(),\n",
    "]"
   ]
  },
  {
   "cell_type": "code",
   "execution_count": 27,
   "metadata": {},
   "outputs": [],
   "source": [
    "target_dir = \"\"\n",
    "# For the ones that pass all constraints (edit loop if you have objectives):\n",
    "target_dir_unsculpted = \"\""
   ]
  },
  {
   "cell_type": "code",
   "execution_count": 18,
   "metadata": {},
   "outputs": [],
   "source": [
    "try:\n",
    "    os.mkdir(target_dir)\n",
    "except:\n",
    "    pass\n",
    "try:\n",
    "    os.mkdir(target_dir_unsculpted)\n",
    "except:\n",
    "    pass"
   ]
  },
  {
   "cell_type": "code",
   "execution_count": null,
   "metadata": {
    "tags": []
   },
   "outputs": [],
   "source": [
    "counter = 0\n",
    "not_divisible_seqs = []\n",
    "for record in records_to_sculpt:\n",
    "    problem = dnachisel.DnaOptimizationProblem.from_record(record, extra_constraints=all_constraints)\n",
    "    if not problem.all_constraints_pass():\n",
    "        counter += 1\n",
    "        print(record.id)\n",
    "        len_seq = len(problem.sequence)\n",
    "        print(\"Length:\", len_seq)\n",
    "        target_path = os.path.join(target_dir, record.id + \".zip\")\n",
    "        problem.optimize_with_report(target=target_path)\n",
    "        print()\n",
    "        print(problem.constraints_text_summary())\n",
    "        print()\n",
    "    else:  # just save the genbank\n",
    "        genbank_filename = record.id + \".gb\"\n",
    "        with open(os.path.join(target_dir_unsculpted, genbank_filename), \"w\") as output_handle:\n",
    "            SeqIO.write(record, output_handle, \"genbank\")\n",
    "print()\n",
    "print(\"Counter:\", counter)"
   ]
  },
  {
   "cell_type": "markdown",
   "metadata": {},
   "source": [
    "### Copy edited sequence files from reports:\n",
    "\n",
    "Ensure reports are unzipped."
   ]
  },
  {
   "cell_type": "code",
   "execution_count": 24,
   "metadata": {},
   "outputs": [],
   "source": [
    "reports = os.listdir(target_dir)"
   ]
  },
  {
   "cell_type": "code",
   "execution_count": 25,
   "metadata": {},
   "outputs": [],
   "source": [
    "from shutil import copyfile"
   ]
  },
  {
   "cell_type": "code",
   "execution_count": null,
   "metadata": {},
   "outputs": [],
   "source": [
    "for report in reports:\n",
    "    if report.endswith(\".zip\"):  # all should be lowercase\n",
    "        continue\n",
    "\n",
    "    gb_file = os.path.join(target_dir, report, \"final_sequence.gb\")\n",
    "    \n",
    "    target_filename = report + \".gb\"\n",
    "    target_file = os.path.join(target_dir_unsculpted, target_filename)\n",
    "    print(gb_file, target_file)\n",
    "    copyfile(gb_file, target_file)"
   ]
  },
  {
   "cell_type": "markdown",
   "metadata": {},
   "source": [
    "---\n",
    "## Domestication of new parts"
   ]
  },
  {
   "cell_type": "code",
   "execution_count": null,
   "metadata": {},
   "outputs": [],
   "source": [
    "# Directory containing genbanks\n",
    "dir_to_domesticate = \"\"\n",
    "# Path to CSV of GoldenGateDomesticator spreadsheet\n",
    "GGdomesticator_spreadsheet = \"\"\n",
    "# Output path\n",
    "domestication_target = \"\""
   ]
  },
  {
   "cell_type": "code",
   "execution_count": null,
   "metadata": {},
   "outputs": [],
   "source": [
    "import os\n",
    "import genedom\n",
    "import dnacauldron\n",
    "# import proglog\n",
    "# proglog.notebook()"
   ]
  },
  {
   "cell_type": "code",
   "execution_count": null,
   "metadata": {},
   "outputs": [],
   "source": [
    "records_to_domesticate = dnacauldron.biotools.load_records_from_files(folder=dir_to_domesticate, use_file_names_as_ids=True)\n",
    "EMMA_PLUS = genedom.GoldenGateDomesticator.standard_from_spreadsheet(GGdomesticator_spreadsheet)\n",
    "genedom.batch_domestication(\n",
    "    records=records_to_domesticate, \n",
    "    standard=EMMA_PLUS, \n",
    "    target=domestication_target)"
   ]
  },
  {
   "cell_type": "code",
   "execution_count": null,
   "metadata": {},
   "outputs": [],
   "source": [
    "# Check if any names were truncated:\n",
    "import pandas\n",
    "order_ids = pandas.read_csv(os.path.join(domestication_target, \"order_ids.csv\"))"
   ]
  },
  {
   "cell_type": "code",
   "execution_count": null,
   "metadata": {},
   "outputs": [],
   "source": [
    "any_truncated = False\n",
    "for index, row in order_ids.iterrows():\n",
    "    if row[\"sequence\"] != row[\"order_id\"]:\n",
    "        any_truncated = True\n",
    "        print(\"Truncated name:\", end=\" \")\n",
    "        print(\" --> \".join(row))\n",
    "if not any_truncated:\n",
    "    print(\"Part names were not truncated\")"
   ]
  },
  {
   "cell_type": "markdown",
   "metadata": {},
   "source": [
    "---\n",
    "\n",
    "## Check overhangs"
   ]
  },
  {
   "cell_type": "code",
   "execution_count": null,
   "metadata": {},
   "outputs": [],
   "source": [
    "import os\n",
    "import overhang as oh"
   ]
  },
  {
   "cell_type": "code",
   "execution_count": null,
   "metadata": {},
   "outputs": [],
   "source": [
    "projectname = \"Project_name\"\n",
    "report_dir = \"\"\n",
    "overhangs = [\"TAGG\", \"ACGA\"]\n",
    "enzyme = \"Esp3I\"\n",
    "kappagate_dataset = \"2020_01h_Esp3I\"  # or 2020_01h_BsaI"
   ]
  },
  {
   "cell_type": "code",
   "execution_count": null,
   "metadata": {},
   "outputs": [],
   "source": [
    "overhangset = oh.OverhangSet(overhangs=overhangs, name=projectname, enzyme=enzyme)\n",
    "oh.write_overhangset_report(os.path.join(report_dir, \"overhang_report_\" + projectname + \".pdf\"), overhangset)\n",
    "# Tatapov plot (37 Celsius, 1 hour):"
   ]
  },
  {
   "cell_type": "code",
   "execution_count": null,
   "metadata": {},
   "outputs": [],
   "source": [
    "from kappagate import overhangs_list_to_slots, plot_circular_interactions, predict_assembly_accuracy, plot_colony_picking_graph, success_rate_facts"
   ]
  },
  {
   "cell_type": "code",
   "execution_count": null,
   "metadata": {},
   "outputs": [],
   "source": [
    "slots = overhangs_list_to_slots(overhangs)\n",
    "ax = plot_circular_interactions(\n",
    "    slots, annealing_data=('37C', kappagate_dataset), rate_limit=200)\n",
    "ax.figure.savefig(os.path.join(report_dir, \"interactions_\" + projectname + \".png\"), bbox_inches='tight')"
   ]
  },
  {
   "cell_type": "code",
   "execution_count": null,
   "metadata": {},
   "outputs": [],
   "source": [
    "predicted_rate, _, _ = predict_assembly_accuracy(slots)\n",
    "ax = plot_colony_picking_graph(success_rate=predicted_rate)\n",
    "ax.figure.savefig(os.path.join(report_dir, \"success_rate_facts\" + projectname + \".png\"), bbox_inches='tight')\n",
    "\n",
    "print(success_rate_facts(predicted_rate, plain_text=True))"
   ]
  },
  {
   "cell_type": "markdown",
   "metadata": {},
   "source": [
    "---\n",
    "## Cloning simulation"
   ]
  },
  {
   "cell_type": "code",
   "execution_count": null,
   "metadata": {},
   "outputs": [],
   "source": [
    "# Dir of domesticated sequences\n",
    "dir_domesticated = os.path.join(domestication_target, \"domesticated_genbanks\")\n",
    "# Dir of available parts\n",
    "dir_available_parts = \"\"\n",
    "# Assembly plan folder prefix:\n",
    "assembly_plan_name = \"Assembly_plan\"\n",
    "assembly_plan_path = \"assembly_plan.csv\"\n",
    "########################################\n",
    "simulation_target_path = \"predicted_simulation\"\n",
    "\n",
    "backbone_first = True\n",
    "backbone_name = \"HC_Amp_ccdB\""
   ]
  },
  {
   "cell_type": "code",
   "execution_count": null,
   "metadata": {},
   "outputs": [],
   "source": [
    "import dnacauldron\n",
    "repository = dnacauldron.SequenceRepository()\n",
    "repository.import_records(folder=dir_domesticated, use_file_names_as_ids=True, topology=\"circular\")\n",
    "repository.import_records(folder=dir_available_parts, use_file_names_as_ids=True, topology=\"circular\")"
   ]
  },
  {
   "cell_type": "code",
   "execution_count": null,
   "metadata": {},
   "outputs": [],
   "source": [
    "repository.get_record(backbone_name).is_backbone = True"
   ]
  },
  {
   "cell_type": "code",
   "execution_count": null,
   "metadata": {},
   "outputs": [],
   "source": [
    "assembly_plan = dnacauldron.AssemblyPlan.from_spreadsheet(\n",
    "    name=assembly_plan_name,\n",
    "    path=assembly_plan_path,\n",
    "    assembly_class=dnacauldron.Type2sRestrictionAssembly\n",
    ")"
   ]
  },
  {
   "cell_type": "code",
   "execution_count": null,
   "metadata": {},
   "outputs": [],
   "source": [
    "simulation = assembly_plan.simulate(sequence_repository=repository)\n",
    "stats = simulation.compute_stats()\n",
    "print(stats)"
   ]
  },
  {
   "cell_type": "code",
   "execution_count": null,
   "metadata": {},
   "outputs": [],
   "source": [
    "report_writer = dnacauldron.AssemblyReportWriter(\n",
    "    include_assembly_plots=True,\n",
    "    include_mix_graphs=True,\n",
    "    include_pdf_report=True\n",
    ")\n",
    "simulation.write_report(simulation_target_path, assembly_report_writer=report_writer)"
   ]
  },
  {
   "cell_type": "markdown",
   "metadata": {},
   "source": [
    "---"
   ]
  },
  {
   "cell_type": "markdown",
   "metadata": {},
   "source": [
    "## Compare two sets of sequences (e.g. simulations) with GeneBlocks"
   ]
  },
  {
   "cell_type": "code",
   "execution_count": null,
   "metadata": {},
   "outputs": [],
   "source": [
    "path_seq_1 = \"\"  # path to dir of sequence files\n",
    "path_seq_2 = \"\"  # path to dir of sequence files\n",
    "plot_export_path = \"n1_compare_first_and_second_simulation\""
   ]
  },
  {
   "cell_type": "markdown",
   "metadata": {},
   "source": [
    "---"
   ]
  },
  {
   "cell_type": "code",
   "execution_count": null,
   "metadata": {},
   "outputs": [],
   "source": [
    "import os\n",
    "try:\n",
    "    os.mkdir(plot_export_path)\n",
    "except:\n",
    "    pass"
   ]
  },
  {
   "cell_type": "code",
   "execution_count": null,
   "metadata": {},
   "outputs": [],
   "source": [
    "from Bio import SeqIO\n",
    "seq_batch_1 = os.listdir(path_seq_1)\n",
    "seq_batch_2 = os.listdir(path_seq_2)"
   ]
  },
  {
   "cell_type": "code",
   "execution_count": null,
   "metadata": {},
   "outputs": [],
   "source": [
    "# The sequence names are assumed to be the same. Alternatively, a lookup-list dict can be implemented."
   ]
  },
  {
   "cell_type": "code",
   "execution_count": null,
   "metadata": {},
   "outputs": [],
   "source": [
    "seq_batch_1_records = {}\n",
    "for seq in seq_batch_1:\n",
    "    record = SeqIO.read(os.path.join(path_seq_1, seq), \"genbank\")\n",
    "    # record.name = seq.split(\".\")[0]  # remove extension\n",
    "    seq_batch_1_records[record.name] = record"
   ]
  },
  {
   "cell_type": "code",
   "execution_count": null,
   "metadata": {},
   "outputs": [],
   "source": [
    "seq_batch_2_records = {}\n",
    "for seq in seq_batch_2:\n",
    "    record = SeqIO.read(os.path.join(path_seq_2, seq), \"genbank\")\n",
    "    seq_batch_2_records[record.name] = record"
   ]
  },
  {
   "cell_type": "code",
   "execution_count": null,
   "metadata": {},
   "outputs": [],
   "source": [
    "for sim, record in seq_batch_2_records.items():\n",
    "    if str(seq_batch_1_records[sim].seq) != str(record.seq):\n",
    "        print(\"Error:\", sim)"
   ]
  },
  {
   "cell_type": "code",
   "execution_count": null,
   "metadata": {},
   "outputs": [],
   "source": [
    "# if there is no output, then it's exactly the same"
   ]
  },
  {
   "cell_type": "code",
   "execution_count": null,
   "metadata": {},
   "outputs": [],
   "source": [
    "import matplotlib.pyplot as plt\n",
    "from geneblocks import DiffBlocks"
   ]
  },
  {
   "cell_type": "code",
   "execution_count": null,
   "metadata": {
    "tags": []
   },
   "outputs": [],
   "source": [
    "for sim, record in seq_batch_2_records.items():\n",
    "    compare_record = seq_batch_1_records[sim]\n",
    "    \n",
    "    diff_blocks = DiffBlocks.from_sequences(record, compare_record)\n",
    "    ax1, ax2 = diff_blocks.merged().plot(figure_width=8)\n",
    "    filename = record.name + \".png\"\n",
    "    ax1.figure.savefig(os.path.join(plot_export_path, filename))"
   ]
  },
  {
   "cell_type": "markdown",
   "metadata": {},
   "source": [
    "---\n",
    "## Calculate total length of DNA domesticated (bp)"
   ]
  },
  {
   "cell_type": "code",
   "execution_count": null,
   "metadata": {},
   "outputs": [],
   "source": [
    "parts_to_order = dnacauldron.biotools.load_records_from_files(folder=dir_domesticated, use_file_names_as_ids=True)"
   ]
  },
  {
   "cell_type": "code",
   "execution_count": null,
   "metadata": {},
   "outputs": [],
   "source": [
    "total_length = 0\n",
    "for part in parts_to_order:\n",
    "    total_length += len(part.seq)\n",
    "print(total_length)"
   ]
  },
  {
   "cell_type": "code",
   "execution_count": null,
   "metadata": {},
   "outputs": [],
   "source": [
    "# Check parts that are too short\n",
    "length_cutoff = 100\n",
    "for part in parts_to_order:\n",
    "    if len(part) < length_cutoff:\n",
    "        print(\"Too short:\", part.id)"
   ]
  },
  {
   "cell_type": "markdown",
   "metadata": {},
   "source": [
    "---\n",
    "## Export as a table\n",
    "\n",
    "Required by some DNA synthesis companies"
   ]
  },
  {
   "cell_type": "code",
   "execution_count": null,
   "metadata": {},
   "outputs": [],
   "source": [
    "import pandas\n",
    "\n",
    "name = []\n",
    "seq = []\n",
    "for seqrecord in parts_to_order:\n",
    "    name += [seqrecord.id]\n",
    "    seq += [str(seqrecord.seq)]\n",
    "\n",
    "d = {'name': name,\n",
    "    'seq': seq}\n",
    "df = pandas.DataFrame(d)\n",
    "\n",
    "df.to_csv(\"projectname.csv\", index=False)"
   ]
  }
 ],
 "metadata": {
  "kernelspec": {
   "display_name": "Python 3",
   "language": "python",
   "name": "python3"
  },
  "language_info": {
   "codemirror_mode": {
    "name": "ipython",
    "version": 3
   },
   "file_extension": ".py",
   "mimetype": "text/x-python",
   "name": "python",
   "nbconvert_exporter": "python",
   "pygments_lexer": "ipython3",
   "version": "3.6.10"
  }
 },
 "nbformat": 4,
 "nbformat_minor": 4
}
