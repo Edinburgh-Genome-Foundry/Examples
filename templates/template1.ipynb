{
 "cells": [
  {
   "cell_type": "markdown",
   "metadata": {},
   "source": [
    "# DNA assembly project: ____"
   ]
  },
  {
   "cell_type": "markdown",
   "metadata": {},
   "source": [
    "This notebook template shows a standard workflow of DNA assembly design, using EGF software. Each section begins with parameters that need to be defined."
   ]
  },
  {
   "cell_type": "markdown",
   "metadata": {},
   "source": [
    "## Obtain parts"
   ]
  },
  {
   "cell_type": "code",
   "execution_count": null,
   "metadata": {},
   "outputs": [],
   "source": [
    "# List of all and new parts in assembly plan:\n",
    "f1 = open('all_parts.txt', 'r')\n",
    "f2 = open('new_parts.txt', 'r')"
   ]
  },
  {
   "cell_type": "code",
   "execution_count": null,
   "metadata": {},
   "outputs": [],
   "source": [
    "all_parts = f1.read().splitlines()\n",
    "new_parts = f2.read().splitlines()\n",
    "f1.close()\n",
    "f2.close()"
   ]
  },
  {
   "cell_type": "code",
   "execution_count": null,
   "metadata": {},
   "outputs": [],
   "source": [
    "difference = set(new_parts) - set(all_parts)\n",
    "if len(difference) != 0:\n",
    "    print(\"Some parts are not in the plan:\")\n",
    "    print(difference)\n",
    "else:\n",
    "    print(\"All new parts are accounted for in the assembly. Retrieving these remaining parts from repository:\")\n",
    "    print(set(all_parts) - set(new_parts))"
   ]
  },
  {
   "cell_type": "code",
   "execution_count": null,
   "metadata": {},
   "outputs": [],
   "source": [
    "# Alternatively retrieve from repository via API"
   ]
  },
  {
   "cell_type": "markdown",
   "metadata": {},
   "source": [
    "---\n",
    "## Domestication of new parts"
   ]
  },
  {
   "cell_type": "code",
   "execution_count": null,
   "metadata": {},
   "outputs": [],
   "source": [
    "# Directory containing genbanks\n",
    "dir_to_domesticate = \"\"\n",
    "# Path to CSV of GoldenGateDomesticator spreadsheet\n",
    "GGdomesticator_spreadsheet = \"\"\n",
    "# Output path\n",
    "domestication_target = \"\""
   ]
  },
  {
   "cell_type": "code",
   "execution_count": null,
   "metadata": {},
   "outputs": [],
   "source": [
    "import os\n",
    "import genedom\n",
    "import dnacauldron as dc\n",
    "# import proglog\n",
    "# proglog.notebook()"
   ]
  },
  {
   "cell_type": "code",
   "execution_count": null,
   "metadata": {},
   "outputs": [],
   "source": [
    "records_to_domesticate = dc.biotools.load_records_from_files(folder=dir_to_domesticate, use_file_names_as_ids=True)\n",
    "EMMA_PLUS = genedom.GoldenGateDomesticator.standard_from_spreadsheet(GGdomesticator_spreadsheet)\n",
    "genedom.batch_domestication(\n",
    "    records=records_to_domesticate, \n",
    "    standard=EMMA_PLUS, \n",
    "    target=domestication_target)"
   ]
  },
  {
   "cell_type": "code",
   "execution_count": null,
   "metadata": {},
   "outputs": [],
   "source": [
    "# Check if any names were truncated:\n",
    "import pandas as pd\n",
    "order_ids = pd.read_csv(os.path.join(domestication_target, \"order_ids.csv\"))"
   ]
  },
  {
   "cell_type": "code",
   "execution_count": null,
   "metadata": {},
   "outputs": [],
   "source": [
    "any_truncated = False\n",
    "for index, row in order_ids.iterrows():\n",
    "    if row[\"sequence\"] != row[\"order_id\"]:\n",
    "        any_truncated = True\n",
    "        print(\"Truncated name:\", end=\" \")\n",
    "        print(\" --> \".join(row))\n",
    "if not any_truncated:\n",
    "    print(\"Part names were not truncated\")"
   ]
  },
  {
   "cell_type": "markdown",
   "metadata": {},
   "source": [
    "---\n",
    "\n",
    "## Check overhangs"
   ]
  },
  {
   "cell_type": "code",
   "execution_count": null,
   "metadata": {},
   "outputs": [],
   "source": [
    "import os\n",
    "import overhang as oh"
   ]
  },
  {
   "cell_type": "code",
   "execution_count": null,
   "metadata": {},
   "outputs": [],
   "source": [
    "projectname = \"Project_name\"\n",
    "report_dir = \"\"\n",
    "overhangs = [\"TAGG\", \"ACGA\"]\n",
    "enzyme = \"Esp3I\"\n",
    "kappagate_dataset = \"2020_01h_Esp3I\"  # or 2020_01h_BsaI"
   ]
  },
  {
   "cell_type": "code",
   "execution_count": null,
   "metadata": {},
   "outputs": [],
   "source": [
    "overhangset = oh.OverhangSet(overhangs=overhangs, name=projectname, enzyme=enzyme)\n",
    "oh.write_overhangset_report(os.path.join(report_dir, \"overhang_report_\" + projectname + \".pdf\"), overhangset)\n",
    "# Tatapov plot (37 Celsius, 1 hour):"
   ]
  },
  {
   "cell_type": "code",
   "execution_count": null,
   "metadata": {},
   "outputs": [],
   "source": [
    "from kappagate import overhangs_list_to_slots, plot_circular_interactions, predict_assembly_accuracy, plot_colony_picking_graph, success_rate_facts"
   ]
  },
  {
   "cell_type": "code",
   "execution_count": null,
   "metadata": {},
   "outputs": [],
   "source": [
    "slots = overhangs_list_to_slots(overhangs)\n",
    "ax = plot_circular_interactions(\n",
    "    slots, annealing_data=('37C', kappagate_dataset), rate_limit=200)\n",
    "ax.figure.savefig(os.path.join(report_dir, \"interactions_\" + projectname + \".png\"), bbox_inches='tight')"
   ]
  },
  {
   "cell_type": "code",
   "execution_count": null,
   "metadata": {},
   "outputs": [],
   "source": [
    "predicted_rate, _, _ = predict_assembly_accuracy(slots)\n",
    "ax = plot_colony_picking_graph(success_rate=predicted_rate)\n",
    "ax.figure.savefig(os.path.join(report_dir, \"success_rate_facts\" + projectname + \".png\"), bbox_inches='tight')\n",
    "\n",
    "print(success_rate_facts(predicted_rate, plain_text=True))"
   ]
  },
  {
   "cell_type": "markdown",
   "metadata": {},
   "source": [
    "---\n",
    "## Cloning simulation"
   ]
  },
  {
   "cell_type": "code",
   "execution_count": null,
   "metadata": {},
   "outputs": [],
   "source": [
    "# Dir of domesticated sequences\n",
    "dir_domesticated =  os.path.join(domestication_target, \"domesticated_genbanks\")\n",
    "# Dir of available parts\n",
    "dir_available_parts = \"\"\n",
    "# Assembly plan\n",
    "assembly_plan_name = \"Assembly_plan\"\n",
    "assembly_plan_path = \"assembly_plan.csv\"\n",
    "########################################\n",
    "simulation_target_path = \"predicted_simulation\"\n",
    "\n",
    "backbone_first = True\n",
    "backbone_name = \"HC_Amp_ccdB\""
   ]
  },
  {
   "cell_type": "code",
   "execution_count": null,
   "metadata": {},
   "outputs": [],
   "source": [
    "import dnacauldron as dc\n",
    "repository = dc.SequenceRepository()\n",
    "repository.import_records(folder=dir_domesticated, use_file_names_as_ids=True, topology=\"circular\")\n",
    "repository.import_records(folder=dir_available_parts, use_file_names_as_ids=True, topology=\"circular\")"
   ]
  },
  {
   "cell_type": "code",
   "execution_count": null,
   "metadata": {},
   "outputs": [],
   "source": [
    "repository.get_record(backbone_name).is_backbone = True"
   ]
  },
  {
   "cell_type": "code",
   "execution_count": null,
   "metadata": {},
   "outputs": [],
   "source": [
    "assembly_plan = dc.AssemblyPlan.from_spreadsheet(\n",
    "    name=assembly_plan_name,\n",
    "    path=assembly_plan_path,\n",
    "    assembly_class=dc.Type2sRestrictionAssembly\n",
    ")"
   ]
  },
  {
   "cell_type": "code",
   "execution_count": null,
   "metadata": {},
   "outputs": [],
   "source": [
    "simulation = assembly_plan.simulate(sequence_repository=repository)\n",
    "stats = simulation.compute_stats()\n",
    "print(stats)"
   ]
  },
  {
   "cell_type": "code",
   "execution_count": null,
   "metadata": {},
   "outputs": [],
   "source": [
    "report_writer = dc.AssemblyReportWriter(\n",
    "    include_assembly_plots=True,\n",
    "    include_mix_graphs=True,\n",
    "    include_pdf_report=True\n",
    ")\n",
    "simulation.write_report(simulation_target_path, assembly_report_writer=report_writer)"
   ]
  },
  {
   "cell_type": "markdown",
   "metadata": {},
   "source": [
    "---\n",
    "## Calculate total length of DNA domesticated (bp)"
   ]
  },
  {
   "cell_type": "code",
   "execution_count": null,
   "metadata": {},
   "outputs": [],
   "source": [
    "parts_to_order = dc.biotools.load_records_from_files(folder=dir_domesticated, use_file_names_as_ids=True)"
   ]
  },
  {
   "cell_type": "code",
   "execution_count": null,
   "metadata": {},
   "outputs": [],
   "source": [
    "total_length = 0\n",
    "for part in parts_to_order:\n",
    "    total_length += len(part.seq)\n",
    "print(total_length)"
   ]
  }
 ],
 "metadata": {
  "kernelspec": {
   "display_name": "Python 3",
   "language": "python",
   "name": "python3"
  },
  "language_info": {
   "codemirror_mode": {
    "name": "ipython",
    "version": 3
   },
   "file_extension": ".py",
   "mimetype": "text/x-python",
   "name": "python",
   "nbconvert_exporter": "python",
   "pygments_lexer": "ipython3",
   "version": "3.6.13"
  }
 },
 "nbformat": 4,
 "nbformat_minor": 4
}
