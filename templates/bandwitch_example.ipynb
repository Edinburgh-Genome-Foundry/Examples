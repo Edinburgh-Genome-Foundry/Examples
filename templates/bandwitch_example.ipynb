{
 "cells": [
  {
   "cell_type": "code",
   "execution_count": null,
   "metadata": {},
   "outputs": [],
   "source": [
    "from plateo.parsers import plate_from_platemap_spreadsheet\n",
    "from bandwitch import BandsObservation, ClonesObservations, Clone, load_record\n",
    "import flametree"
   ]
  },
  {
   "cell_type": "code",
   "execution_count": null,
   "metadata": {},
   "outputs": [],
   "source": [
    "# PARAMETERS\n",
    "data_dir = flametree.file_tree('.').directory_name  # rename `directory_name` to the dir containing the data\n",
    "enzymes = (\"NheI\", \"PstI\")  # use a tuple\n",
    "min_rfu_size_ratio = 0.3  # RFU / Size (bp) cutoff for each band\n",
    "# Also set directory names below"
   ]
  },
  {
   "cell_type": "code",
   "execution_count": null,
   "metadata": {},
   "outputs": [],
   "source": [
    "constructs_dict = {\n",
    "    f._name_no_extension: load_record(\n",
    "        f._path, topology='circular', id=f._name_no_extension)\n",
    "    for f in data_dir.all_construct_records._all_files\n",
    "}\n",
    "# rename `all_construct_records` to the directory within `directory_name` which has the construct sequence files"
   ]
  },
  {
   "cell_type": "code",
   "execution_count": null,
   "metadata": {},
   "outputs": [],
   "source": [
    "clones_plate = plate_from_platemap_spreadsheet(data_dir.name_of_plate_xlsx._path,\n",
    "                                               data_field='construct')\n",
    "# where `name_of_plate` is the name of the xlsx file that contains the plate layout\n",
    "# note that filenames starting with a number may not be read properly"
   ]
  },
  {
   "cell_type": "code",
   "execution_count": null,
   "metadata": {},
   "outputs": [],
   "source": [
    "clones_map = {\n",
    "    well.name: well.data.construct\n",
    "    for well in clones_plate.iter_wells()\n",
    "    if 'construct' in well.data\n",
    "    and str(well.data.construct) != 'nan'\n",
    "}\n",
    "\n",
    "bands_observations = BandsObservation.from_aati_fa_archive(\n",
    "    data_dir.aati_files_zip._path,\n",
    "    min_rfu_size_ratio=min_rfu_size_ratio)\n",
    "# where `aati_files` is a zip of the fragment analyzer output"
   ]
  },
  {
   "cell_type": "code",
   "execution_count": null,
   "metadata": {},
   "outputs": [],
   "source": [
    "clones = {\n",
    "    well_name: Clone(name=well_name, construct_id=clones_map[well_name],\n",
    "                     digestions={enzymes: bands_observations[well_name]})\n",
    "    for well_name, construct_id in clones_map.items()\n",
    "}"
   ]
  },
  {
   "cell_type": "code",
   "execution_count": null,
   "metadata": {},
   "outputs": [],
   "source": [
    "# VALIDATE ALL CLONES WITH BANDWITCH\n",
    "clones_observations = ClonesObservations(clones, constructs_dict)\n",
    "validations = clones_observations.validate_all_clones(relative_tolerance=0.03)\n",
    "validations_summary = clones_observations.validations_summary(validations)"
   ]
  },
  {
   "cell_type": "code",
   "execution_count": null,
   "metadata": {},
   "outputs": [],
   "source": [
    "# CREATE A FOLDER WITH VALIDATION REPORTS\n",
    "report_root = flametree.file_tree('.').results._dir('band_validation')\n",
    "report_root._file('validations.pdf').write(\n",
    "    clones_observations.plot_all_validations_patterns(validations)\n",
    ")\n",
    "ax = clones_observations.plot_validations_plate_map(validations)\n",
    "ax.figure.savefig(report_root._file('success_map.pdf').open('wb'),\n",
    "                  format='pdf', bbox_inches='tight')\n",
    "# where `results` is the output folder name"
   ]
  }
 ],
 "metadata": {
  "kernelspec": {
   "display_name": "Python 3",
   "language": "python",
   "name": "python3"
  },
  "language_info": {
   "codemirror_mode": {
    "name": "ipython",
    "version": 3
   },
   "file_extension": ".py",
   "mimetype": "text/x-python",
   "name": "python",
   "nbconvert_exporter": "python",
   "pygments_lexer": "ipython3",
   "version": "3.6.7"
  }
 },
 "nbformat": 4,
 "nbformat_minor": 4
}
