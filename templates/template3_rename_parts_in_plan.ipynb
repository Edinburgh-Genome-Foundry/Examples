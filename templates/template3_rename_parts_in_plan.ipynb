{
 "cells": [
  {
   "cell_type": "markdown",
   "id": "bfa2184f",
   "metadata": {},
   "source": [
    "## Rename parts"
   ]
  },
  {
   "cell_type": "markdown",
   "id": "2f0b8802",
   "metadata": {},
   "source": [
    "This template is used for cases where we have an assembly plan with undomesticated and unprefixed part names.\n",
    "\n",
    "1. a. Create an assembly plan using `template3_plan_template.ods`. Use the `original_names` sheet and specify the position prefixes used in GeneDom in the header, to create a final plan in the `plan` sheet.\n",
    "\n",
    "   b. Alternatively, use the first section below to add prefixes, based on a column: prefix lookup list.\n",
    "\n",
    "2. Export the final plan to csv (`template3_plan.csv`).\n",
    "\n",
    "3. Run the below code to create new part names according to the plan, and domesticate the sequences."
   ]
  },
  {
   "cell_type": "markdown",
   "id": "ddc094d7",
   "metadata": {},
   "source": [
    "---\n",
    "### Optional section (1b): prefix part names in plan\n",
    "\n",
    "Parameters:"
   ]
  },
  {
   "cell_type": "code",
   "execution_count": null,
   "id": "64ebc736",
   "metadata": {},
   "outputs": [],
   "source": [
    "# Note that the first prefix is empty, for the backbone, but may be utilised in other cases:\n",
    "column_prefixes = [\"\", \"e1e2\", \"e2e3\", \"e3e4\", \"e4e5\", \"e5e0\"]\n",
    "path_to_plan_csv = \"template3_plan_noprefix.csv\"\n",
    "prefixed_plan_path = \"template3_plan_prefixed.csv\""
   ]
  },
  {
   "cell_type": "code",
   "execution_count": null,
   "id": "4d00dfdb",
   "metadata": {},
   "outputs": [],
   "source": [
    "import pandas as pd\n",
    "plan = pd.read_csv(path_to_plan_csv, header=None)\n",
    "prefixes = [\"\"]\n",
    "\n",
    "for prefix in column_prefixes:\n",
    "    if prefix == \"\":\n",
    "        prefixes += [prefix]\n",
    "    else:  # not empty, need separator character\n",
    "        prefixes += [prefix + \"_\"]\n",
    "\n",
    "for col in plan.columns:\n",
    "    prefix = prefixes[col]\n",
    "    plan[col] = prefix + plan[col].astype(str)\n",
    "\n",
    "plan.to_csv(prefixed_plan_path, header=None, index=None)"
   ]
  },
  {
   "cell_type": "markdown",
   "id": "33cd2a49",
   "metadata": {},
   "source": [
    "---"
   ]
  },
  {
   "cell_type": "markdown",
   "id": "3b06e085",
   "metadata": {},
   "source": [
    "### Section 3:\n",
    "\n",
    "Parameters:"
   ]
  },
  {
   "cell_type": "code",
   "execution_count": null,
   "id": "6d11bc87",
   "metadata": {},
   "outputs": [],
   "source": [
    "dir_to_domesticate = \"original_parts\"\n",
    "assembly_plan_path = \"template3_plan.csv\"\n",
    "export_dir = \"prefixed_sequences/\""
   ]
  },
  {
   "cell_type": "markdown",
   "id": "65acec21",
   "metadata": {},
   "source": [
    "Load in the part sequence files. This assumes that the file names are the sequence IDs:"
   ]
  },
  {
   "cell_type": "code",
   "execution_count": null,
   "id": "fe469bb0",
   "metadata": {},
   "outputs": [],
   "source": [
    "seq_records = dc.biotools.load_records_from_files(folder=dir_to_domesticate, use_file_names_as_ids=True)\n",
    "seq_records_names = [record.id for record in seq_records]\n",
    "print(len(seq_records))"
   ]
  },
  {
   "cell_type": "markdown",
   "id": "fb9157e4",
   "metadata": {},
   "source": [
    "Read plan and obtain the part names:"
   ]
  },
  {
   "cell_type": "code",
   "execution_count": 3,
   "id": "0c87a35a",
   "metadata": {},
   "outputs": [],
   "source": [
    "import pandas as pd"
   ]
  },
  {
   "cell_type": "code",
   "execution_count": 4,
   "id": "52f69b57",
   "metadata": {},
   "outputs": [],
   "source": [
    "plan = pd.read_csv(assembly_plan_path, header=None)"
   ]
  },
  {
   "cell_type": "code",
   "execution_count": 5,
   "id": "a742128e",
   "metadata": {},
   "outputs": [
    {
     "data": {
      "text/html": [
       "<div>\n",
       "<style scoped>\n",
       "    .dataframe tbody tr th:only-of-type {\n",
       "        vertical-align: middle;\n",
       "    }\n",
       "\n",
       "    .dataframe tbody tr th {\n",
       "        vertical-align: top;\n",
       "    }\n",
       "\n",
       "    .dataframe thead th {\n",
       "        text-align: right;\n",
       "    }\n",
       "</style>\n",
       "<table border=\"1\" class=\"dataframe\">\n",
       "  <thead>\n",
       "    <tr style=\"text-align: right;\">\n",
       "      <th></th>\n",
       "      <th>0</th>\n",
       "      <th>1</th>\n",
       "      <th>2</th>\n",
       "      <th>3</th>\n",
       "      <th>4</th>\n",
       "      <th>5</th>\n",
       "      <th>6</th>\n",
       "    </tr>\n",
       "  </thead>\n",
       "  <tbody>\n",
       "    <tr>\n",
       "      <th>0</th>\n",
       "      <td>CONSTRUCT_1</td>\n",
       "      <td>HC_Amp_ccdB</td>\n",
       "      <td>e1e2_FLP</td>\n",
       "      <td>e2e3_promoter_1</td>\n",
       "      <td>e3e4_GFP</td>\n",
       "      <td>e4e5_terminator_1</td>\n",
       "      <td>e5e0_insulator</td>\n",
       "    </tr>\n",
       "    <tr>\n",
       "      <th>1</th>\n",
       "      <td>CONSTRUCT_2</td>\n",
       "      <td>HC_Amp_ccdB</td>\n",
       "      <td>e1e2_FLP</td>\n",
       "      <td>e2e3_promoter_2</td>\n",
       "      <td>e3e4_GFP</td>\n",
       "      <td>e4e5_terminator_1</td>\n",
       "      <td>e5e0_insulator</td>\n",
       "    </tr>\n",
       "    <tr>\n",
       "      <th>2</th>\n",
       "      <td>CONSTRUCT_3</td>\n",
       "      <td>HC_Amp_ccdB</td>\n",
       "      <td>e1e2_FLP</td>\n",
       "      <td>e2e3_promoter_2</td>\n",
       "      <td>e3e4_RFP</td>\n",
       "      <td>e4e5_terminator_2</td>\n",
       "      <td>e5e0_insulator</td>\n",
       "    </tr>\n",
       "  </tbody>\n",
       "</table>\n",
       "</div>"
      ],
      "text/plain": [
       "             0            1         2                3         4  \\\n",
       "0  CONSTRUCT_1  HC_Amp_ccdB  e1e2_FLP  e2e3_promoter_1  e3e4_GFP   \n",
       "1  CONSTRUCT_2  HC_Amp_ccdB  e1e2_FLP  e2e3_promoter_2  e3e4_GFP   \n",
       "2  CONSTRUCT_3  HC_Amp_ccdB  e1e2_FLP  e2e3_promoter_2  e3e4_RFP   \n",
       "\n",
       "                   5               6  \n",
       "0  e4e5_terminator_1  e5e0_insulator  \n",
       "1  e4e5_terminator_1  e5e0_insulator  \n",
       "2  e4e5_terminator_2  e5e0_insulator  "
      ]
     },
     "execution_count": 5,
     "metadata": {},
     "output_type": "execute_result"
    }
   ],
   "source": [
    "plan"
   ]
  },
  {
   "cell_type": "code",
   "execution_count": 6,
   "id": "14c7cf97",
   "metadata": {},
   "outputs": [],
   "source": [
    "l = plan.iloc[:, 2:].values.tolist()  # first column is construct name, second column is backbone\n",
    "flat_list = [item for sublist in l for item in sublist if str(item) != 'nan'] "
   ]
  },
  {
   "cell_type": "code",
   "execution_count": 7,
   "id": "f9db298f",
   "metadata": {},
   "outputs": [],
   "source": [
    "parts_in_plan = list(set(flat_list))"
   ]
  },
  {
   "cell_type": "code",
   "execution_count": 8,
   "id": "0ab6db9d",
   "metadata": {},
   "outputs": [
    {
     "data": {
      "text/plain": [
       "['e2e3_promoter_1',\n",
       " 'e5e0_insulator',\n",
       " 'e4e5_terminator_1',\n",
       " 'e1e2_FLP',\n",
       " 'e3e4_GFP',\n",
       " 'e3e4_RFP',\n",
       " 'e4e5_terminator_2',\n",
       " 'e2e3_promoter_2']"
      ]
     },
     "execution_count": 8,
     "metadata": {},
     "output_type": "execute_result"
    }
   ],
   "source": [
    "parts_in_plan"
   ]
  },
  {
   "cell_type": "markdown",
   "id": "ce451ebc",
   "metadata": {},
   "source": [
    "Make a dictionary, find a record with matching name, save with new name in another list\n",
    "(some records may be exported into multiple variants, if the same part is used in multiple positions):"
   ]
  },
  {
   "cell_type": "code",
   "execution_count": 12,
   "id": "e4149820",
   "metadata": {},
   "outputs": [],
   "source": [
    "dict_pos_name = {}\n",
    "for part in parts_in_plan:\n",
    "    part_cut = part.split('_', 1)[1]  # we split at the first underscore\n",
    "    dict_pos_name[part] = part_cut"
   ]
  },
  {
   "cell_type": "code",
   "execution_count": 14,
   "id": "1972b026",
   "metadata": {},
   "outputs": [
    {
     "data": {
      "text/plain": [
       "{'e2e3_promoter_1': 'promoter_1',\n",
       " 'e5e0_insulator': 'insulator',\n",
       " 'e4e5_terminator_1': 'terminator_1',\n",
       " 'e1e2_FLP': 'FLP',\n",
       " 'e3e4_GFP': 'GFP',\n",
       " 'e3e4_RFP': 'RFP',\n",
       " 'e4e5_terminator_2': 'terminator_2',\n",
       " 'e2e3_promoter_2': 'promoter_2'}"
      ]
     },
     "execution_count": 14,
     "metadata": {},
     "output_type": "execute_result"
    }
   ],
   "source": [
    "dict_pos_name"
   ]
  },
  {
   "cell_type": "code",
   "execution_count": null,
   "id": "cad5a38e",
   "metadata": {},
   "outputs": [],
   "source": [
    "import copy\n",
    "pos_records = []  # collects records with position prefix added\n",
    "for pos_name, old_name in dict_pos_name.items():\n",
    "    for record in seq_records:\n",
    "        if record.id == old_name:\n",
    "            new_record = copy.deepcopy(record)\n",
    "            new_record.name = pos_name\n",
    "            new_record.id = pos_name\n",
    "            pos_records.append(new_record)\n",
    "            break"
   ]
  },
  {
   "cell_type": "markdown",
   "id": "c2d31521",
   "metadata": {},
   "source": [
    "#### Save sequences"
   ]
  },
  {
   "cell_type": "code",
   "execution_count": 72,
   "id": "365072d0",
   "metadata": {},
   "outputs": [],
   "source": [
    "import os\n",
    "# os.mkdir(export_dir)\n",
    "for record in pos_records:\n",
    "    filepath = os.path.join(export_dir, (record.name + \".gb\"))\n",
    "    with open(filepath, \"w\") as output_handle:\n",
    "        SeqIO.write(record, output_handle, \"genbank\")"
   ]
  }
 ],
 "metadata": {
  "kernelspec": {
   "display_name": "Python 3",
   "language": "python",
   "name": "python3"
  },
  "language_info": {
   "codemirror_mode": {
    "name": "ipython",
    "version": 3
   },
   "file_extension": ".py",
   "mimetype": "text/x-python",
   "name": "python",
   "nbconvert_exporter": "python",
   "pygments_lexer": "ipython3",
   "version": "3.6.7"
  }
 },
 "nbformat": 4,
 "nbformat_minor": 5
}
