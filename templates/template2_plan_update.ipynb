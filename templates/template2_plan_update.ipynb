{
 "cells": [
  {
   "cell_type": "markdown",
   "metadata": {},
   "source": [
    "## Update assembly plan with new sequence names"
   ]
  },
  {
   "cell_type": "markdown",
   "metadata": {},
   "source": [
    "[Genedom](https://github.com/Edinburgh-Genome-Foundry/genedom) automatically shortens sequence names longer than 15 characters, and produces an order_ids.csv file as a lookup list for original and short names. We can use this file to update the part names in the assembly plan."
   ]
  },
  {
   "cell_type": "code",
   "execution_count": 5,
   "metadata": {},
   "outputs": [],
   "source": [
    "order_ids = \"order_ids.csv\"  # path to domestication output file\n",
    "original_plan = \"original.csv\"\n",
    "assembly_plan = \"assembly.csv\""
   ]
  },
  {
   "cell_type": "code",
   "execution_count": 6,
   "metadata": {},
   "outputs": [],
   "source": [
    "import csv\n",
    "name_dict = {}\n",
    "with open(order_ids, 'r') as f:\n",
    "    reader = csv.reader(f, delimiter=',')\n",
    "    next(reader)  # first row is header\n",
    "\n",
    "    for row in reader:\n",
    "        name_dict[row[0]] = row[1]"
   ]
  },
  {
   "cell_type": "code",
   "execution_count": 7,
   "metadata": {},
   "outputs": [
    {
     "data": {
      "text/plain": [
       "{'p1_3F_longname': 'p1_3F',\n",
       " 'p2_B5_poly': 'p2_B5',\n",
       " 'p3_X_abcdef': 'p3_X',\n",
       " 'p13_11a_1234': 'p13_11a',\n",
       " 'p15_A': 'p15_A',\n",
       " 'p16_42': 'p16_42',\n",
       " 'p25_34D': 'p25_34D'}"
      ]
     },
     "execution_count": 7,
     "metadata": {},
     "output_type": "execute_result"
    }
   ],
   "source": [
    "name_dict"
   ]
  },
  {
   "cell_type": "code",
   "execution_count": 8,
   "metadata": {},
   "outputs": [],
   "source": [
    "import pandas as pd\n",
    "plan = pd.read_csv(original_plan, header=None)\n",
    "# First column contains the construct names and we don't want to change those:\n",
    "plan.iloc[:, 1:] = plan.iloc[:, 1:].replace(to_replace=name_dict)\n",
    "plan.to_csv(assembly_plan, header=False, index=False)"
   ]
  },
  {
   "cell_type": "code",
   "execution_count": 9,
   "metadata": {},
   "outputs": [
    {
     "data": {
      "text/html": [
       "<div>\n",
       "<style scoped>\n",
       "    .dataframe tbody tr th:only-of-type {\n",
       "        vertical-align: middle;\n",
       "    }\n",
       "\n",
       "    .dataframe tbody tr th {\n",
       "        vertical-align: top;\n",
       "    }\n",
       "\n",
       "    .dataframe thead th {\n",
       "        text-align: right;\n",
       "    }\n",
       "</style>\n",
       "<table border=\"1\" class=\"dataframe\">\n",
       "  <thead>\n",
       "    <tr style=\"text-align: right;\">\n",
       "      <th></th>\n",
       "      <th>0</th>\n",
       "      <th>1</th>\n",
       "      <th>2</th>\n",
       "      <th>3</th>\n",
       "      <th>4</th>\n",
       "    </tr>\n",
       "  </thead>\n",
       "  <tbody>\n",
       "    <tr>\n",
       "      <th>0</th>\n",
       "      <td>construct1</td>\n",
       "      <td>p1_3F</td>\n",
       "      <td>p2_B5</td>\n",
       "      <td>p3_X</td>\n",
       "      <td>p13_11a</td>\n",
       "    </tr>\n",
       "    <tr>\n",
       "      <th>1</th>\n",
       "      <td>construct2</td>\n",
       "      <td>p15_A</td>\n",
       "      <td>p16_42</td>\n",
       "      <td>p25_34D</td>\n",
       "      <td>NaN</td>\n",
       "    </tr>\n",
       "  </tbody>\n",
       "</table>\n",
       "</div>"
      ],
      "text/plain": [
       "            0      1       2        3        4\n",
       "0  construct1  p1_3F   p2_B5     p3_X  p13_11a\n",
       "1  construct2  p15_A  p16_42  p25_34D      NaN"
      ]
     },
     "execution_count": 9,
     "metadata": {},
     "output_type": "execute_result"
    }
   ],
   "source": [
    "plan"
   ]
  },
  {
   "cell_type": "code",
   "execution_count": null,
   "metadata": {},
   "outputs": [],
   "source": []
  }
 ],
 "metadata": {
  "kernelspec": {
   "display_name": "Python 3",
   "language": "python",
   "name": "python3"
  },
  "language_info": {
   "codemirror_mode": {
    "name": "ipython",
    "version": 3
   },
   "file_extension": ".py",
   "mimetype": "text/x-python",
   "name": "python",
   "nbconvert_exporter": "python",
   "pygments_lexer": "ipython3",
   "version": "3.6.10"
  }
 },
 "nbformat": 4,
 "nbformat_minor": 4
}
